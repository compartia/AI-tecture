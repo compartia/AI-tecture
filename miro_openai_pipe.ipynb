{
  "nbformat": 4,
  "nbformat_minor": 0,
  "metadata": {
    "colab": {
      "provenance": [],
      "collapsed_sections": [
        "gp-PJTwVlNZe"
      ],
      "toc_visible": true,
      "authorship_tag": "ABX9TyPSO+Ynn/lwQ/C+ghpOarFR",
      "include_colab_link": true
    },
    "kernelspec": {
      "name": "python3",
      "display_name": "Python 3"
    },
    "language_info": {
      "name": "python"
    }
  },
  "cells": [
    {
      "cell_type": "markdown",
      "metadata": {
        "id": "view-in-github",
        "colab_type": "text"
      },
      "source": [
        "<a href=\"https://colab.research.google.com/github/compartia/AI-tecture/blob/master/miro_openai_pipe.ipynb\" target=\"_parent\"><img src=\"https://colab.research.google.com/assets/colab-badge.svg\" alt=\"Open In Colab\"/></a>"
      ]
    },
    {
      "cell_type": "code",
      "source": [
        "!pip install --upgrade openai typing-extensions"
      ],
      "metadata": {
        "id": "mdlRmobQRvU2"
      },
      "execution_count": null,
      "outputs": []
    },
    {
      "cell_type": "code",
      "source": [
        "import openai\n",
        "from google.colab import userdata\n",
        "# openai.api_key =\n",
        "\n",
        "ai_client = openai.OpenAI(api_key=userdata.get('OP_API')  )"
      ],
      "metadata": {
        "id": "dKAaHFKTRveu"
      },
      "execution_count": null,
      "outputs": []
    },
    {
      "cell_type": "code",
      "source": [
        "BOARD_ID = 'uXjVN61x8Pg='"
      ],
      "metadata": {
        "id": "yWPQ26qRlSI0"
      },
      "execution_count": null,
      "outputs": []
    },
    {
      "cell_type": "markdown",
      "source": [
        "# Miro client"
      ],
      "metadata": {
        "id": "u5uDzkcGlSXq"
      }
    },
    {
      "cell_type": "code",
      "source": [
        "import requests\n",
        "import pandas as pd\n",
        "\n",
        "\n",
        "class MiroClient:\n",
        "  def __init__(self, token, board_id):\n",
        "    self.board_id = board_id\n",
        "    self.token = token\n",
        "    self.base_url = f\"https://api.miro.com/v2/boards/{board_id}\"\n",
        "\n",
        "    self.headers = {\n",
        "        \"accept\": \"application/json\",\n",
        "        \"authorization\": f\"Bearer {self.token}\"\n",
        "    }\n",
        "\n",
        "\n",
        "  def get_items(self, cursor=None, limit=50):\n",
        "    limit_p = f'limit={limit}'\n",
        "\n",
        "    url = f\"{self.base_url}/items?{limit_p}\"\n",
        "    if cursor is not None:\n",
        "      url = f\"{self.base_url}/items?cursor={cursor}&{limit_p}\"\n",
        "\n",
        "    response = requests.get(url, headers=self.headers)\n",
        "    return response\n",
        "\n",
        "  def get_connectors(self, cursor=None, limit=50):\n",
        "    limit_p = f'limit={limit}'\n",
        "\n",
        "    url = f\"{self.base_url}/connectors?{limit_p}\"\n",
        "    if cursor is not None:\n",
        "      url = f\"{self.base_url}/connectors?cursor={cursor}&{limit_p}\"\n",
        "\n",
        "    response = requests.get(url, headers=self.headers)\n",
        "    return response\n",
        "\n",
        "\n",
        "  def get_all_pages(self, page_method):\n",
        "    # print('get_all_pages, page_method=', page_method)\n",
        "    cursor = None\n",
        "\n",
        "    while True:\n",
        "      response = page_method(cursor)\n",
        "      rj = response.json()\n",
        "      yield rj\n",
        "      cursor = rj.get('cursor')\n",
        "      if cursor is None:\n",
        "        #TODO: safety! add limit : we trust 3rd pary apy too much, what if cursor is never None?\n",
        "        break\n",
        "\n",
        "\n",
        "miro_client = MiroClient(userdata.get('MIRO_TOOKEN'), BOARD_ID)\n"
      ],
      "metadata": {
        "id": "Z99dNYc8jOA-"
      },
      "execution_count": null,
      "outputs": []
    },
    {
      "cell_type": "code",
      "source": [
        "r = miro_client.get_items(limit=50).json()\n",
        "\n",
        "for k in r['data']:\n",
        "  print()\n",
        "  print('-'*30)\n",
        "  print(k)"
      ],
      "metadata": {
        "id": "4_FRCLvx9NDA"
      },
      "execution_count": null,
      "outputs": []
    },
    {
      "cell_type": "code",
      "source": [
        "type(r['data'])"
      ],
      "metadata": {
        "id": "xPL8miON9X6D"
      },
      "execution_count": null,
      "outputs": []
    },
    {
      "cell_type": "markdown",
      "source": [
        "## Getting all connectors"
      ],
      "metadata": {
        "id": "rXIxqwkx1RMn"
      }
    },
    {
      "cell_type": "code",
      "source": [],
      "metadata": {
        "id": "DcA6Cbz99XAC"
      },
      "execution_count": null,
      "outputs": []
    },
    {
      "cell_type": "code",
      "source": [
        "def decode_connectors(page:dict):\n",
        "  # print(page)\n",
        "  for i in page['data']:\n",
        "    yield i['id'], i.get('startItem', {}).get('id'), i.get('endItem', {}).get('id')\n",
        "\n",
        "## test it\n",
        "one_page_con = miro_client.get_connectors(limit=10).json()\n",
        "x = [i for i in decode_connectors(one_page_con)]\n",
        "x"
      ],
      "metadata": {
        "id": "_PBOp6pZwCau"
      },
      "execution_count": null,
      "outputs": []
    },
    {
      "cell_type": "code",
      "source": [
        "def get_all_connectors(self):\n",
        "  for page in self.get_all_pages(self.get_connectors):\n",
        "    # print('get_all_connectors, page:', page)\n",
        "    for i in decode_connectors(page):\n",
        "      yield i\n",
        "\n",
        "\n",
        "MiroClient.get_all_connectors = get_all_connectors\n",
        "\n",
        "\n",
        "##-----\n",
        "miro_client = MiroClient(userdata.get('MIRO_TOOKEN'), BOARD_ID)\n",
        "all_connectors_iter = miro_client.get_all_connectors()\n",
        "\n",
        "connectors_df = pd.DataFrame(all_connectors_iter, columns=['id','id_from', 'id_to'])\n",
        "connectors_df = connectors_df.set_index('id')\n",
        "connectors_df\n"
      ],
      "metadata": {
        "id": "KQqR-FymxOHN"
      },
      "execution_count": null,
      "outputs": []
    },
    {
      "cell_type": "markdown",
      "source": [
        "## Getting all shapes (widgets)"
      ],
      "metadata": {
        "id": "ChwakwI91NJP"
      }
    },
    {
      "cell_type": "code",
      "source": [],
      "metadata": {
        "id": "ddgBu0zO-epf"
      },
      "execution_count": null,
      "outputs": []
    },
    {
      "cell_type": "code",
      "source": [
        "def decode_items(page:dict):\n",
        "\n",
        "  for i in page['data']:\n",
        "    # print(type(i))\n",
        "    if type(i) == dict :\n",
        "      yield i['id'], i['type'], i['data'].get('shape', '_undefined_'), i['data'].get('content'), i['modifiedAt'], i['geometry'], i['position']\n",
        "\n",
        "    else:\n",
        "      print('NOT A DICT!!', type(i), i)\n",
        "      decode_items(i)"
      ],
      "metadata": {
        "id": "KK69YBMzWrmQ"
      },
      "execution_count": null,
      "outputs": []
    },
    {
      "cell_type": "code",
      "source": [
        "\n",
        "\n",
        "def get_all_items(self):\n",
        "  for page in self.get_all_pages(self.get_items):\n",
        "    # print( page.get('cursor'), page.get('size'), page.get('total') )\n",
        "    for i in decode_items(page):\n",
        "      yield i\n",
        "      # print(i)\n",
        "\n",
        "\n",
        "MiroClient.get_all_items=get_all_items\n",
        "\n",
        "miro_client = MiroClient(userdata.get('MIRO_TOOKEN'), BOARD_ID)\n",
        "items_iter = miro_client.get_all_items()\n",
        "\n",
        "df = pd.DataFrame(items_iter, columns=['id','type', 'shape', \"contents\", 'modifiedAt', 'geometry', 'position'])\n",
        "df = df.set_index('id')"
      ],
      "metadata": {
        "id": "PL9z0V2WMs5g"
      },
      "execution_count": null,
      "outputs": []
    },
    {
      "cell_type": "code",
      "source": [
        "shapes_df =df\n",
        "shapes_df"
      ],
      "metadata": {
        "id": "_he5GEjo4TAm"
      },
      "execution_count": null,
      "outputs": []
    },
    {
      "cell_type": "markdown",
      "source": [
        "### Get shapes with prompts"
      ],
      "metadata": {
        "id": "oiG-BLkj4bh4"
      }
    },
    {
      "cell_type": "code",
      "source": [
        "prompts_df = shapes_df[shapes_df['shape']=='parallelogram']\n",
        "prompts_df"
      ],
      "metadata": {
        "id": "PVVnxy9CWYf3"
      },
      "execution_count": null,
      "outputs": []
    },
    {
      "cell_type": "markdown",
      "source": [
        "# Test open AI"
      ],
      "metadata": {
        "id": "pdmuX6DrGCTg"
      }
    },
    {
      "cell_type": "markdown",
      "source": [
        "### Find connectors of prompts-shapes (connectors of prallelograms)"
      ],
      "metadata": {
        "id": "5YQuk-7U4iqL"
      }
    },
    {
      "cell_type": "code",
      "source": [
        "#incoming shapes\n",
        "for id in prompts_df.index:\n",
        "  print()\n",
        "  print('-'*40)\n",
        "  print('prompt', id, prompts_df.loc[id]['contents'])\n",
        "\n",
        "  incoming_links = connectors_df[ connectors_df['id_to'] ==id]\n",
        "  # print (links ['id_from'])\n",
        "  for _, l in incoming_links.iterrows():\n",
        "    print(l)\n",
        "    print()\n",
        "    incoming_shape_id = l['id_from']\n",
        "    print('SHAPE  FROM:', incoming_shape_id)\n",
        "    if incoming_shape_id in shapes_df.index:\n",
        "\n",
        "      print('text:', id, shapes_df.loc[incoming_shape_id]['contents'])\n",
        "    else:\n",
        "      print('ERROR!', incoming_shape_id, 'not found!' )\n",
        "\n",
        "  #   print(l)"
      ],
      "metadata": {
        "id": "yhJ0Px-TWCkA"
      },
      "execution_count": null,
      "outputs": []
    },
    {
      "cell_type": "code",
      "source": [],
      "metadata": {
        "id": "rR-k1i55ls2e"
      },
      "execution_count": null,
      "outputs": []
    },
    {
      "cell_type": "code",
      "source": [
        "items = miro_client.get_items()\n",
        "items"
      ],
      "metadata": {
        "id": "o6VygQ-FjOKj"
      },
      "execution_count": null,
      "outputs": []
    },
    {
      "cell_type": "markdown",
      "source": [
        "# -----\n",
        "\n",
        "\n",
        "\n",
        "\n",
        "\n",
        "# Google Ngrams api test\n",
        "\n"
      ],
      "metadata": {
        "id": "gp-PJTwVlNZe"
      }
    },
    {
      "cell_type": "code",
      "source": [
        "import requests\n",
        "import json\n",
        "import re\n",
        "import pandas as pd\n",
        "\n",
        "def get_ngram_data(word, corpus='ru-2019', start_year=2000, end_year=2020, smoothing=3):\n",
        "    \"\"\"\n",
        "    Fetches ngram data from Google Books Ngram Viewer.\n",
        "\n",
        "    :param word: Word to search for.\n",
        "    :param corpus: Corpus ID (default is 15 for English).\n",
        "    :param start_year: Start year for the data.\n",
        "    :param end_year: End year for the data.\n",
        "    :param smoothing: Smoothing parameter.\n",
        "    :return: A list of tuples with year and corresponding frequency.\n",
        "    \"\"\"\n",
        "    url = f\"https://books.google.com/ngrams/json?content={word}&year_start={start_year}&year_end={end_year}&corpus={corpus}&smoothing={smoothing}\"\n",
        "\n",
        "    response = requests.get(url)\n",
        "    if response.status_code != 200:\n",
        "        return \"Failed to retrieve data\"\n",
        "\n",
        "    data = json.loads(response.text)\n",
        "    print (data)\n",
        "\n",
        "    # Parse the data\n",
        "    if data:\n",
        "        ngram_data = []\n",
        "        for entry in data[0]['timeseries']:\n",
        "            year = start_year\n",
        "            ngram_data.append((year, entry))\n",
        "            start_year += 1\n",
        "        return ngram_data\n",
        "    else:\n",
        "        return \"No data found\"\n",
        "\n",
        "# Example usage\n",
        "word = \"нечто\"\n",
        "ngram_data = get_ngram_data(word)\n",
        "print(ngram_data)\n"
      ],
      "metadata": {
        "id": "VlMA-kxY2G5z"
      },
      "execution_count": null,
      "outputs": []
    },
    {
      "cell_type": "code",
      "source": [],
      "metadata": {
        "id": "jS-Q2KOhbaJ_"
      },
      "execution_count": null,
      "outputs": []
    },
    {
      "cell_type": "code",
      "source": [
        "class Observer:\n",
        "  def __init__(self):\n",
        "    self.state = [] #memory\n",
        "    self.observed = [] #sensory\n",
        "\n",
        "    print('inited', self.state)\n",
        "\n",
        "  def observe(self, state):\n",
        "    self.observed = state\n",
        "    print('observed', self.observed)\n",
        "    self.compare()\n",
        "\n",
        "  def compare(self):\n",
        "    if self.state\n",
        "    pass\n",
        "\n",
        "\n",
        "s = [1]\n",
        "\n",
        "o = Observer()\n",
        "o.observe(s)"
      ],
      "metadata": {
        "id": "WQC497EEOds6"
      },
      "execution_count": null,
      "outputs": []
    },
    {
      "cell_type": "code",
      "source": [
        "498501 - 497503"
      ],
      "metadata": {
        "id": "9tMxPSekPoUl"
      },
      "execution_count": null,
      "outputs": []
    },
    {
      "cell_type": "code",
      "source": [
        "import pandas as pd\n",
        "\n",
        "# Convert to DataFrame\n",
        "if isinstance(ngram_data, list):\n",
        "    df = pd.DataFrame(ngram_data, columns=['Year', 'Frequency'])\n",
        "    print(df['Frequency'].mean())\n",
        "else:\n",
        "    print(ngram_data)"
      ],
      "metadata": {
        "id": "oBEhks3V3zTK"
      },
      "execution_count": null,
      "outputs": []
    },
    {
      "cell_type": "code",
      "source": [
        "!pip install umap-learn\n"
      ],
      "metadata": {
        "id": "vjqRXRAAfaib"
      },
      "execution_count": null,
      "outputs": []
    },
    {
      "cell_type": "code",
      "source": [
        "# Import necessary libraries\n",
        "import numpy as np\n",
        "import matplotlib.pyplot as plt\n",
        "from sklearn.manifold import TSNE\n",
        "import umap\n",
        "\n",
        "# 1) Constructing a random matrix of distances\n",
        "def create_random_distance_matrix(size):\n",
        "    matrix = np.random.rand(size, size)\n",
        "    matrix = (matrix + matrix.T) / 2  # Making the matrix symmetric\n",
        "    np.fill_diagonal(matrix, 0)  # Setting diagonal to zero (distance to itself)\n",
        "    return matrix\n",
        "\n",
        "# 2) Using t-SNE to fit these distances into 2D and plotting the result\n",
        "def plot_with_tsne(matrix):\n",
        "    tsne = TSNE(n_components=2, metric=\"precomputed\")\n",
        "    embedded_2d = tsne.fit_transform(matrix)\n",
        "\n",
        "    # Plotting\n",
        "    plt.scatter(embedded_2d[:, 0], embedded_2d[:, 1])\n",
        "    plt.title(\"2D representation of nodes using t-SNE\")\n",
        "    plt.xlabel(\"Dimension 1\")\n",
        "    plt.ylabel(\"Dimension 2\")\n",
        "    plt.show()\n",
        "\n",
        "def plot_with_umap(matrix):\n",
        "    reducer = umap.UMAP(metric=\"precomputed\")\n",
        "    embedded_2d = reducer.fit_transform(matrix)\n",
        "\n",
        "    # Plotting\n",
        "    plt.scatter(embedded_2d[:, 0], embedded_2d[:, 1])\n",
        "    plt.title(\"2D representation of nodes using UMAP\")\n",
        "    plt.xlabel(\"Dimension 1\")\n",
        "    plt.ylabel(\"Dimension 2\")\n",
        "    plt.show()\n",
        "\n",
        "# Example usage\n",
        "size = 10  # Number of nodes\n",
        "distance_matrix = create_random_distance_matrix(size)\n",
        "plot_with_umap(distance_matrix)"
      ],
      "metadata": {
        "id": "QlKHT3epeX87"
      },
      "execution_count": null,
      "outputs": []
    },
    {
      "cell_type": "code",
      "execution_count": null,
      "metadata": {
        "id": "AJZNZQxIFagh"
      },
      "outputs": [],
      "source": [
        "import numpy as np\n",
        "import matplotlib.pyplot as plt\n",
        "\n",
        "# Function to create a random square matrix representing a graph\n",
        "def create_random_graph(size):\n",
        "    matrix = np.random.rand(size, size)\n",
        "    np.fill_diagonal(matrix, 0)  # setting diagonal to zero to eliminate self loops\n",
        "    return matrix\n",
        "\n",
        "# Function to plot the matrix\n",
        "def plot_matrix(matrix, title=\"Graph Matrix\"):\n",
        "    plt.figure(figsize=(4, 4))\n",
        "    plt.imshow(matrix, cmap='viridis')\n",
        "    plt.colorbar()\n",
        "    plt.title(title)\n",
        "    plt.show()\n",
        "\n",
        "# Greedy Traveling Salesman Algorithm\n",
        "def greedy_tsp(matrix):\n",
        "    n = len(matrix)\n",
        "    visited = [False] * n\n",
        "    path = []\n",
        "    current = 0\n",
        "    visited[current] = True\n",
        "    path.append(current)\n",
        "\n",
        "    while len(path) < n:\n",
        "        next_city = np.argmin([matrix[current, j] if not visited[j] else np.inf for j in range(n)])\n",
        "        path.append(next_city)\n",
        "        visited[next_city] = True\n",
        "        current = next_city\n",
        "\n",
        "    path.append(path[0]) # Returning to the starting point\n",
        "    return path\n",
        "\n",
        "# Function to plot the path\n",
        "def plot_path(matrix, path):\n",
        "    plt.figure(figsize=(4, 4))\n",
        "    plt.imshow(matrix, cmap='viridis')\n",
        "    for i in range(len(path) - 1):\n",
        "        y, x = path[i], path[i+1]\n",
        "        plt.plot([x, y], [x, y], 'ro-')\n",
        "    plt.colorbar()\n",
        "    plt.title(\"Path on Graph\")\n",
        "    plt.show()\n",
        "\n",
        "# Create a random graph\n",
        "size = 4  # You can change the size of the matrix\n",
        "matrix = create_random_graph(size)\n",
        "\n",
        "# Plot the matrix\n",
        "plot_matrix(matrix)\n",
        "\n",
        "# Find and plot the path\n",
        "path = greedy_tsp(matrix)\n",
        "plot_path(matrix, path)\n"
      ]
    },
    {
      "cell_type": "code",
      "source": [],
      "metadata": {
        "id": "tIdj5DUQfYyO"
      },
      "execution_count": null,
      "outputs": []
    },
    {
      "cell_type": "code",
      "source": [
        "import itertools\n",
        "\n",
        "def calculate_total_distance(path, matrix):\n",
        "    \"\"\"Calculate the total distance of a given path using the distance matrix.\"\"\"\n",
        "    total_distance = 0\n",
        "    for i in range(len(path) - 1):\n",
        "        total_distance += matrix[path[i], path[i + 1]]\n",
        "    total_distance += matrix[path[-1], path[0]]  # Return to the starting point\n",
        "    return total_distance\n",
        "\n",
        "def exact_tsp(matrix):\n",
        "    n = len(matrix)\n",
        "    cities = list(range(n))\n",
        "    shortest_path = None\n",
        "    min_distance = np.inf\n",
        "\n",
        "    for path in itertools.permutations(cities[1:]):  # All permutations of cities, excluding the first city\n",
        "        path = (0,) + path  # Adding the starting city to the beginning\n",
        "        total_distance = calculate_total_distance(path, matrix)\n",
        "\n",
        "        if total_distance < min_distance:\n",
        "            min_distance = total_distance\n",
        "            shortest_path = path\n",
        "\n",
        "    return shortest_path, min_distance\n",
        "\n",
        "# Find the exact solution for the TSP\n",
        "exact_path, exact_total_cost = exact_tsp(matrix)\n",
        "print(f\"Exact Path: {exact_path}, Total Cost: {exact_total_cost}\")\n",
        "plot_path(matrix, exact_path)"
      ],
      "metadata": {
        "id": "5bt6KgFhFbzW"
      },
      "execution_count": null,
      "outputs": []
    },
    {
      "cell_type": "code",
      "source": [
        "# Function to plot the path\n",
        "def plot_path(matrix, path):\n",
        "    plt.figure(figsize=(4, 4))\n",
        "    plt.imshow(matrix, cmap='viridis')\n",
        "    for i in range(len(path) - 1):\n",
        "        y, x = path[i], path[i+1]\n",
        "        plt.plot([x, y], [x, y], 'ro-', alpha=0.2)\n",
        "    plt.colorbar()\n",
        "    plt.title(\"Path on Graph\")\n",
        "    plt.show()\n",
        "\n",
        "plot_path(matrix, exact_path)"
      ],
      "metadata": {
        "id": "NK1dxONKMebB"
      },
      "execution_count": null,
      "outputs": []
    },
    {
      "cell_type": "code",
      "source": [],
      "metadata": {
        "id": "gI0YqqLIMSwc"
      },
      "execution_count": null,
      "outputs": []
    }
  ]
}