{
  "nbformat": 4,
  "nbformat_minor": 0,
  "metadata": {
    "colab": {
      "provenance": [],
      "toc_visible": true,
      "authorship_tag": "ABX9TyOiBwO7tmM0MBafJ2vjgSod",
      "include_colab_link": true
    },
    "kernelspec": {
      "name": "python3",
      "display_name": "Python 3"
    },
    "language_info": {
      "name": "python"
    }
  },
  "cells": [
    {
      "cell_type": "markdown",
      "metadata": {
        "id": "view-in-github",
        "colab_type": "text"
      },
      "source": [
        "<a href=\"https://colab.research.google.com/github/compartia/AI-tecture/blob/master/miro_openai_pipe.ipynb\" target=\"_parent\"><img src=\"https://colab.research.google.com/assets/colab-badge.svg\" alt=\"Open In Colab\"/></a>"
      ]
    },
    {
      "cell_type": "markdown",
      "source": [
        "## Prepare OPEN AI client"
      ],
      "metadata": {
        "id": "mgh_Yl64GmYj"
      }
    },
    {
      "cell_type": "code",
      "source": [
        "!pip install --upgrade openai typing-extensions"
      ],
      "metadata": {
        "id": "mdlRmobQRvU2"
      },
      "execution_count": null,
      "outputs": []
    },
    {
      "cell_type": "code",
      "source": [
        "import openai\n",
        "from google.colab import userdata\n",
        "# openai.api_key =\n",
        "\n",
        "ai_client = openai.OpenAI(api_key=userdata.get('OP_API')  )"
      ],
      "metadata": {
        "id": "dKAaHFKTRveu"
      },
      "execution_count": null,
      "outputs": []
    },
    {
      "cell_type": "code",
      "source": [
        "BOARD_ID = 'uXjVN61x8Pg='"
      ],
      "metadata": {
        "id": "yWPQ26qRlSI0"
      },
      "execution_count": null,
      "outputs": []
    },
    {
      "cell_type": "markdown",
      "source": [
        "# Miro client"
      ],
      "metadata": {
        "id": "u5uDzkcGlSXq"
      }
    },
    {
      "cell_type": "code",
      "source": [
        "import requests\n",
        "import pandas as pd\n",
        "\n",
        "\n",
        "class MiroClient:\n",
        "  def __init__(self, token, board_id):\n",
        "    self.board_id = board_id\n",
        "    self.token = token\n",
        "    self.base_url = f\"https://api.miro.com/v2/boards/{board_id}\"\n",
        "\n",
        "    self.headers = {\n",
        "        \"accept\": \"application/json\",\n",
        "        \"authorization\": f\"Bearer {self.token}\"\n",
        "    }\n",
        "\n",
        "\n",
        "  def get_items(self, cursor=None, limit=50):\n",
        "    limit_p = f'limit={limit}'\n",
        "\n",
        "    url = f\"{self.base_url}/items?{limit_p}\"\n",
        "    if cursor is not None:\n",
        "      url = f\"{self.base_url}/items?cursor={cursor}&{limit_p}\"\n",
        "\n",
        "    response = requests.get(url, headers=self.headers)\n",
        "    return response\n",
        "\n",
        "  def get_connectors(self, cursor=None, limit=50):\n",
        "    limit_p = f'limit={limit}'\n",
        "\n",
        "    url = f\"{self.base_url}/connectors?{limit_p}\"\n",
        "    if cursor is not None:\n",
        "      url = f\"{self.base_url}/connectors?cursor={cursor}&{limit_p}\"\n",
        "\n",
        "    response = requests.get(url, headers=self.headers)\n",
        "    return response\n",
        "\n",
        "\n",
        "  def get_all_pages(self, page_method):\n",
        "    # print('get_all_pages, page_method=', page_method)\n",
        "    cursor = None\n",
        "\n",
        "    while True:\n",
        "      response = page_method(cursor)\n",
        "      rj = response.json()\n",
        "      yield rj\n",
        "      cursor = rj.get('cursor')\n",
        "      if cursor is None:\n",
        "        #TODO: safety! add limit : we trust 3rd pary apy too much, what if cursor is never None?\n",
        "        break\n",
        "\n",
        "\n",
        "miro_client = MiroClient(userdata.get('MIRO_TOOKEN'), BOARD_ID)\n"
      ],
      "metadata": {
        "id": "Z99dNYc8jOA-"
      },
      "execution_count": null,
      "outputs": []
    },
    {
      "cell_type": "code",
      "source": [
        "r = miro_client.get_items(limit=50).json()\n",
        "\n",
        "for k in r['data']:\n",
        "  print()\n",
        "  print('-'*30)\n",
        "  print(k)"
      ],
      "metadata": {
        "id": "4_FRCLvx9NDA"
      },
      "execution_count": null,
      "outputs": []
    },
    {
      "cell_type": "code",
      "source": [
        "type(r['data'])"
      ],
      "metadata": {
        "id": "xPL8miON9X6D"
      },
      "execution_count": null,
      "outputs": []
    },
    {
      "cell_type": "markdown",
      "source": [
        "## Getting all connectors"
      ],
      "metadata": {
        "id": "rXIxqwkx1RMn"
      }
    },
    {
      "cell_type": "code",
      "source": [
        "def decode_connectors(page:dict):\n",
        "  # print(page)\n",
        "  for i in page['data']:\n",
        "    yield i['id'], i.get('startItem', {}).get('id'), i.get('endItem', {}).get('id')\n",
        "\n",
        "## test it\n",
        "one_page_con = miro_client.get_connectors(limit=10).json()\n",
        "x = [i for i in decode_connectors(one_page_con)]\n",
        "x"
      ],
      "metadata": {
        "id": "_PBOp6pZwCau"
      },
      "execution_count": null,
      "outputs": []
    },
    {
      "cell_type": "code",
      "source": [
        "def get_all_connectors(self):\n",
        "  for page in self.get_all_pages(self.get_connectors):\n",
        "    # print('get_all_connectors, page:', page)\n",
        "    for i in decode_connectors(page):\n",
        "      yield i\n",
        "\n",
        "\n",
        "MiroClient.get_all_connectors = get_all_connectors\n",
        "\n",
        "\n",
        "##-----\n",
        "miro_client = MiroClient(userdata.get('MIRO_TOOKEN'), BOARD_ID)\n",
        "all_connectors_iter = miro_client.get_all_connectors()\n",
        "\n",
        "connectors_df = pd.DataFrame(all_connectors_iter, columns=['id','id_from', 'id_to'])\n",
        "connectors_df = connectors_df.set_index('id')\n",
        "connectors_df\n"
      ],
      "metadata": {
        "id": "KQqR-FymxOHN"
      },
      "execution_count": null,
      "outputs": []
    },
    {
      "cell_type": "markdown",
      "source": [
        "## Getting all shapes (widgets)"
      ],
      "metadata": {
        "id": "ChwakwI91NJP"
      }
    },
    {
      "cell_type": "code",
      "source": [
        "def decode_items(page:dict):\n",
        "\n",
        "  for i in page['data']:\n",
        "    # print(type(i))\n",
        "    if type(i) == dict :\n",
        "      yield i['id'], i['type'], i['data'].get('shape', '_undefined_'), i['data'].get('content'), i['modifiedAt'], i['geometry'], i['position']\n",
        "\n",
        "    else:\n",
        "      print('NOT A DICT!!', type(i), i)\n",
        "      decode_items(i)"
      ],
      "metadata": {
        "id": "KK69YBMzWrmQ"
      },
      "execution_count": null,
      "outputs": []
    },
    {
      "cell_type": "code",
      "source": [
        "\n",
        "\n",
        "def get_all_items(self):\n",
        "  for page in self.get_all_pages(self.get_items):\n",
        "    # print( page.get('cursor'), page.get('size'), page.get('total') )\n",
        "    for i in decode_items(page):\n",
        "      yield i\n",
        "      # print(i)\n",
        "\n",
        "\n",
        "MiroClient.get_all_items=get_all_items\n",
        "\n",
        "miro_client = MiroClient(userdata.get('MIRO_TOOKEN'), BOARD_ID)\n",
        "items_iter = miro_client.get_all_items()\n",
        "\n",
        "df = pd.DataFrame(items_iter, columns=['id','type', 'shape', \"contents\", 'modifiedAt', 'geometry', 'position'])\n",
        "df = df.set_index('id')"
      ],
      "metadata": {
        "id": "PL9z0V2WMs5g"
      },
      "execution_count": null,
      "outputs": []
    },
    {
      "cell_type": "code",
      "source": [
        "shapes_df =df\n",
        "shapes_df"
      ],
      "metadata": {
        "id": "_he5GEjo4TAm"
      },
      "execution_count": null,
      "outputs": []
    },
    {
      "cell_type": "code",
      "source": [
        "# shapes_df.at['3458764578193755154', 'type']"
      ],
      "metadata": {
        "id": "cbY2KtRVQBUQ"
      },
      "execution_count": null,
      "outputs": []
    },
    {
      "cell_type": "markdown",
      "source": [
        "### Get shapes with prompts"
      ],
      "metadata": {
        "id": "oiG-BLkj4bh4"
      }
    },
    {
      "cell_type": "code",
      "source": [
        "prompts_df = shapes_df[shapes_df['shape']=='parallelogram']\n",
        "prompts_df"
      ],
      "metadata": {
        "id": "PVVnxy9CWYf3"
      },
      "execution_count": null,
      "outputs": []
    },
    {
      "cell_type": "markdown",
      "source": [
        "# Test open AI"
      ],
      "metadata": {
        "id": "pdmuX6DrGCTg"
      }
    },
    {
      "cell_type": "code",
      "source": [
        "from IPython.core.display import display, HTML"
      ],
      "metadata": {
        "id": "DFDb4tbHI-Im"
      },
      "execution_count": null,
      "outputs": []
    },
    {
      "cell_type": "code",
      "source": [
        "%%time\n",
        "\n",
        "completion = ai_client.chat.completions.create(\n",
        "  model=\"gpt-3.5-turbo\",\n",
        "  messages=[\n",
        "    {\"role\": \"system\", \"content\": \"You are a poetic assistant, skilled in explaining complex programming concepts with creative flair. Your answer is in a form of list of <p> html tags.\"},\n",
        "    {\"role\": \"user\", \"content\": \"Compose a poem that explains the concept of recursion in programming.\"}\n",
        "  ]\n",
        ")\n",
        "\n",
        "# print(completion.choices[0].message)\n",
        "display(HTML(completion.choices[0].message.content))"
      ],
      "metadata": {
        "id": "sByeqew3Gi9w"
      },
      "execution_count": null,
      "outputs": []
    },
    {
      "cell_type": "code",
      "source": [
        "%%time\n",
        "completion = ai_client.chat.completions.create(\n",
        "  model=\"gpt-4\",\n",
        "  messages=[\n",
        "    {\"role\": \"system\", \"content\": \"You are a poetic assistant, skilled in explaining complex programming concepts with creative flair. Your answer is in a form of list of <p> html tags.\"},\n",
        "    {\"role\": \"user\", \"content\": \"Compose a poem that explains the concept of recursion in programming.\"}\n",
        "  ]\n",
        ")\n",
        "#\n",
        "# print(completion.choices[0].message)\n",
        "display(HTML(completion.choices[0].message.content))"
      ],
      "metadata": {
        "id": "G4igP8-uGx-2"
      },
      "execution_count": null,
      "outputs": []
    },
    {
      "cell_type": "code",
      "source": [
        "%%time\n",
        "completion = ai_client.chat.completions.create(\n",
        "  model=\"gpt-4-turbo-preview\",\n",
        "  messages=[\n",
        "    {\"role\": \"system\", \"content\": \"You are a poetic assistant, skilled in explaining complex programming concepts with creative flair. Your answer is in a form of list of <p> html tags.\"},\n",
        "    {\"role\": \"user\", \"content\": \"Compose a poem that explains the concept of recursion in programming.\"}\n",
        "  ]\n",
        ")\n",
        "\n",
        "display(HTML(completion.choices[0].message.content))"
      ],
      "metadata": {
        "id": "gyGRd7BKHAXI"
      },
      "execution_count": null,
      "outputs": []
    },
    {
      "cell_type": "code",
      "source": [
        "def ask_ai(prompt, argument_context):\n",
        "\n",
        "  completion = ai_client.chat.completions.create(\n",
        "    model=\"gpt-4\",\n",
        "    messages=[\n",
        "      {\"role\": \"system\", \"content\": f\"{prompt}. Your answer is in a form of list of <p> html tags and NO newline '\\n' symbols.\"},\n",
        "      {\"role\": \"user\", \"content\": argument_context}\n",
        "    ]\n",
        "  )\n",
        "  return completion.choices[0].message.content\n",
        "\n",
        "r = ask_ai('you are the philosopher. answer in 50 words.', 'what is the meaning of life?')\n",
        "print(r)"
      ],
      "metadata": {
        "id": "PRjlYd75JPHS"
      },
      "execution_count": null,
      "outputs": []
    },
    {
      "cell_type": "code",
      "source": [
        "display(HTML(r))\n",
        "display(HTML(r))"
      ],
      "metadata": {
        "id": "ZUVvg7lgb8u_"
      },
      "execution_count": null,
      "outputs": []
    },
    {
      "cell_type": "markdown",
      "source": [
        "# Process"
      ],
      "metadata": {
        "id": "7fl6403nMD0O"
      }
    },
    {
      "cell_type": "code",
      "source": [],
      "metadata": {
        "id": "x2_9Nlu8b78e"
      },
      "execution_count": null,
      "outputs": []
    },
    {
      "cell_type": "markdown",
      "source": [
        "### Update board item"
      ],
      "metadata": {
        "id": "D2dKqEeDLfjr"
      }
    },
    {
      "cell_type": "code",
      "source": [
        "# shapes_df.loc['3458764578193755154' ]"
      ],
      "metadata": {
        "id": "wmtwh06VQPda"
      },
      "execution_count": null,
      "outputs": []
    },
    {
      "cell_type": "code",
      "source": [
        "\n",
        "\n",
        "def get_shape_info(self, shape_id):\n",
        "  url = f\"{self.base_url}/shapes/{shape_id}\"\n",
        "  response = requests.get(url, headers=self.headers)\n",
        "  print(response.text)\n",
        "\n",
        "def get_stiky_note_info(self, shape_id):\n",
        "  url = f\"{self.base_url}/sticky_notes/{shape_id}\"\n",
        "  response = requests.get(url, headers=self.headers)\n",
        "  print(response.text)\n",
        "\n",
        "\n",
        "\n",
        "\n",
        "def update_item(self, shape_id, item_type, content, shape=None):\n",
        "\n",
        "\n",
        "  url = None\n",
        "\n",
        "  payload = { \"data\": {\n",
        "          \"content\": content\n",
        "      } }\n",
        "\n",
        "\n",
        "\n",
        "  if item_type=='sticky_note':\n",
        "    url = f\"{self.base_url}/sticky_notes/{shape_id}\"\n",
        "  elif item_type=='shape':\n",
        "    url = f\"{self.base_url}/shapes/{shape_id}\"\n",
        "    if shape is not None:\n",
        "      payload['data']['shape'] = shape\n",
        "\n",
        "\n",
        "\n",
        "\n",
        "  response = requests.patch(url, json=payload, headers=self.headers)\n",
        "\n",
        "  print(response.text)\n",
        "\n",
        "MiroClient.update_item = update_item\n",
        "MiroClient.get_shape_info = get_shape_info\n",
        "MiroClient.get_stiky_note_info = get_stiky_note_info\n",
        "\n",
        "#-----\n",
        "\n",
        "\n",
        "miro_client = MiroClient(userdata.get('MIRO_TOOKEN'), BOARD_ID)\n",
        "# miro_client.get_stiky_note_info('3458764578213963472')\n",
        "miro_client.update_item( '3458764578213963472', item_type=shapes_df.at['3458764578213963472', 'type'], content=completion.choices[0].message.content,  shape='round_rectangle')"
      ],
      "metadata": {
        "id": "PLj1AZXaLdTu"
      },
      "execution_count": null,
      "outputs": []
    },
    {
      "cell_type": "markdown",
      "source": [],
      "metadata": {
        "id": "xRVwHDbvLfAs"
      }
    },
    {
      "cell_type": "markdown",
      "source": [
        "### Find connectors of prompts-shapes (connectors of prallelograms)"
      ],
      "metadata": {
        "id": "5YQuk-7U4iqL"
      }
    },
    {
      "cell_type": "code",
      "source": [
        "#incoming shapes\n",
        "\n",
        "ai_responses={}\n",
        "\n",
        "for prompt_id in prompts_df.index:\n",
        "  print()\n",
        "  print('-'*40)\n",
        "  # print('prompt', id, prompts_df.loc[id]['contents'])\n",
        "\n",
        "  _propmt_text = shapes_df.loc[prompt_id]['contents']\n",
        "\n",
        "  incoming_links = connectors_df[ connectors_df['id_to']==prompt_id]\n",
        "  # print (links ['id_from'])\n",
        "  for _, l in incoming_links.iterrows():\n",
        "    print(l)\n",
        "    print()\n",
        "    incoming_shape_id = l['id_from']\n",
        "    print('SHAPE  FROM:', incoming_shape_id)\n",
        "    if incoming_shape_id in shapes_df.index:\n",
        "\n",
        "      _text = shapes_df.loc[incoming_shape_id]['contents']\n",
        "      print('text:', prompt_id, _text)\n",
        "      r = ask_ai(_propmt_text, _text)\n",
        "      display(HTML(r))\n",
        "      ai_responses[prompt_id] = r\n",
        "\n",
        "    else:\n",
        "      print('ERROR!', incoming_shape_id, 'not found!' )\n",
        "\n",
        "\n",
        "\n",
        "\n",
        "  print('='*80)\n",
        "  print('outputs:')\n",
        "\n",
        "  outgoing_links = connectors_df[ connectors_df['id_from'] ==prompt_id]\n",
        "  # print (links ['id_from'])\n",
        "  for _, l in outgoing_links.iterrows():\n",
        "    print(l)\n",
        "    print()\n",
        "    out_shape_id = l['id_to']\n",
        "    print('SHAPE to:', out_shape_id)\n",
        "\n",
        "    if out_shape_id in shapes_df.index:\n",
        "      print('text:', prompt_id, shapes_df.loc[out_shape_id]['contents'])\n",
        "      # miro_client.update_item(out_shape_id, , content=r, shape='rou')\n",
        "\n",
        "      miro_client.update_item( out_shape_id, item_type=shapes_df.at[out_shape_id, 'type'], content=r,  shape='round_rectangle')\n",
        "\n",
        "    else:\n",
        "      print('ERROR!', out_shape_id, 'not found!' )\n",
        "\n",
        "  #   print(l)"
      ],
      "metadata": {
        "id": "yhJ0Px-TWCkA"
      },
      "execution_count": null,
      "outputs": []
    },
    {
      "cell_type": "code",
      "source": [],
      "metadata": {
        "id": "rR-k1i55ls2e"
      },
      "execution_count": null,
      "outputs": []
    },
    {
      "cell_type": "code",
      "source": [],
      "metadata": {
        "id": "fh2sdLJyGiWw"
      },
      "execution_count": null,
      "outputs": []
    }
  ]
}