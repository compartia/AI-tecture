{
 "cells": [
  {
   "cell_type": "code",
   "execution_count": 9,
   "metadata": {
    "collapsed": true
   },
   "outputs": [],
   "source": [
    "import keras.backend as K\n",
    "import numpy as np\n",
    "from keras.layers import Input, Dense, Lambda, Reshape\n",
    "from keras.models import Model\n"
   ]
  },
  {
   "cell_type": "code",
   "execution_count": 11,
   "metadata": {},
   "outputs": [
    {
     "name": "stdout",
     "output_type": "stream",
     "text": [
      "_________________________________________________________________\n",
      "Layer (type)                 Output Shape              Param #   \n",
      "=================================================================\n",
      "points (InputLayer)          (None, 2)                 0         \n",
      "_________________________________________________________________\n",
      "lambda_6 (Lambda)            (None, -1, 2, 2)          0         \n",
      "=================================================================\n",
      "Total params: 0\n",
      "Trainable params: 0\n",
      "Non-trainable params: 0\n",
      "_________________________________________________________________\n",
      "5/5 [==============================] - 0s\n"
     ]
    },
    {
     "data": {
      "text/plain": [
       "array([[[[ 1.,  0.],\n",
       "         [ 0.,  0.]]],\n",
       "\n",
       "\n",
       "       [[[ 1.,  0.],\n",
       "         [ 0.,  0.]]],\n",
       "\n",
       "\n",
       "       [[[ 1.,  0.],\n",
       "         [ 0.,  0.]]],\n",
       "\n",
       "\n",
       "       [[[ 1.,  0.],\n",
       "         [ 0.,  0.]]],\n",
       "\n",
       "\n",
       "       [[[ 1.,  0.],\n",
       "         [ 0.,  0.]]]], dtype=float32)"
      ]
     },
     "execution_count": 11,
     "metadata": {},
     "output_type": "execute_result"
    }
   ],
   "source": [
    "_shape=(1,4,)\n",
    "def assignAt(coords):\n",
    "    zeros = np.zeros(_shape)    \n",
    "#     x=coords[0] #does not work\n",
    "#     y=coords[1] #does not work\n",
    "    x=0\n",
    "    y=0\n",
    "    zeros[x,y]=1\n",
    "    \n",
    "    z = K.variable(zeros)\n",
    "    return Reshape((-1,2,2))(z)\n",
    "\n",
    "\n",
    "pairs = Input(shape=(2,), name=\"points\", dtype=\"int32\")\n",
    "field = Lambda(assignAt, output_shape=(-1,2,2))(pairs)\n",
    " \n",
    "model = Model(inputs=pairs, outputs=field)\n",
    "\n",
    "model.summary()\n",
    "\n",
    "pairs=np.array([[0,1],[1,3],[2,4],[2,4],[2,4]]) \n",
    "model.predict( pairs, batch_size=6,verbose=1)"
   ]
  },
  {
   "cell_type": "code",
   "execution_count": null,
   "metadata": {
    "collapsed": true
   },
   "outputs": [],
   "source": []
  }
 ],
 "metadata": {
  "kernelspec": {
   "display_name": "Python 3",
   "language": "python",
   "name": "python3"
  },
  "language_info": {
   "codemirror_mode": {
    "name": "ipython",
    "version": 3
   },
   "file_extension": ".py",
   "mimetype": "text/x-python",
   "name": "python",
   "nbconvert_exporter": "python",
   "pygments_lexer": "ipython3",
   "version": "3.4.2"
  }
 },
 "nbformat": 4,
 "nbformat_minor": 2
}
